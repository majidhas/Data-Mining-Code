{
 "cells": [
  {
   "cell_type": "markdown",
   "source": [
    "# Introduction to Plotting\n",
    "This jupyter notebook is optional for those who feel proficient on plotting with Python\n"
   ],
   "metadata": {}
  },
  {
   "cell_type": "markdown",
   "source": [
    "In this notebook we will cover:\n",
    "\n",
    "- How to plot with matplotlib\n",
    "\n",
    "- How to plot with pandas\n",
    "\n",
    "- seaborn"
   ],
   "metadata": {}
  },
  {
   "cell_type": "markdown",
   "source": [
    "## 1. Matplotlib"
   ],
   "metadata": {}
  },
  {
   "cell_type": "markdown",
   "source": [
    "matplotlib is a Python library specializing in the development of two-dimensional\n",
    "charts (including 3D charts).\n",
    "\n",
    "\n",
    "Check the documentation: (http://matplotlib.org)!"
   ],
   "metadata": {}
  },
  {
   "cell_type": "code",
   "execution_count": null,
   "source": [
    "#pip install matplotlib\r\n",
    "#pip install matplotlib\r\n"
   ],
   "outputs": [],
   "metadata": {
    "tags": []
   }
  },
  {
   "cell_type": "markdown",
   "source": [],
   "metadata": {}
  },
  {
   "cell_type": "code",
   "execution_count": null,
   "source": [
    "\"\"\"\r\n",
    "The pyplot module is a collection of command-style functions that allows you to use\r\n",
    "matplotlib. Each pyplot function will operate or make some changes\r\n",
    "to the Figure object, for example, the creation of the Figure itself, the creation of a\r\n",
    "plotting area, representation of a line, decoration of the plot with a label, etc.\r\n",
    "Pyplot also is stateful, in that it tracks the status of the current figure and its plotting\r\n",
    "area. The functions called act on the current figure.\r\n",
    "\r\n",
    "\r\n",
    "\"\"\"\r\n",
    "\r\n",
    "import matplotlib.pyplot as plt \r\n",
    "\r\n"
   ],
   "outputs": [],
   "metadata": {}
  },
  {
   "cell_type": "code",
   "execution_count": null,
   "source": [
    "\"\"\"\r\n",
    "Matplotlib inline will allow you to display the figures on jupyter.\r\n",
    "If you are using python you don't have to use inline but after creating the plots you need to call plt.show()\r\n",
    "\"\"\"\r\n",
    "\r\n",
    "%matplotlib inline"
   ],
   "outputs": [],
   "metadata": {}
  },
  {
   "cell_type": "code",
   "execution_count": null,
   "source": [
    "\"\"\"\r\n",
    "Let's create a list of points and use plt to plot it!\r\n",
    "So just call plot and pass as a parameter y \r\n",
    "\"\"\"\r\n",
    "\r\n",
    "y = ([1,2,3,4])\r\n",
    "plt.plot(y)\r\n",
    "#plt.show()"
   ],
   "outputs": [],
   "metadata": {}
  },
  {
   "cell_type": "markdown",
   "source": [
    "### Object oriented method"
   ],
   "metadata": {}
  },
  {
   "cell_type": "code",
   "execution_count": null,
   "source": [
    "import numpy as np \r\n",
    "\r\n",
    "\"\"\"\r\n",
    "Let's create something to plot first :) \r\n",
    "\"\"\"\r\n",
    "x = np.linspace(0,5,11) \r\n",
    "y = x**2"
   ],
   "outputs": [],
   "metadata": {}
  },
  {
   "cell_type": "code",
   "execution_count": null,
   "source": [
    "\"\"\"\r\n",
    "The main idea with OO use of matplotlib, is that you can use figure objects and call methods of them.\r\n",
    "The figure object is your empty canvas.\r\n",
    "\r\n",
    "next you can specify the limits of the plot frame by call .add_axes\r\n",
    "\r\n",
    "Then you can call .plot for x and y \r\n",
    "\r\n",
    "\"\"\"\r\n",
    "fig = plt.figure() #this is how you create the figure object\r\n",
    "\r\n",
    "axes = fig.add_axes([0.1,0.1,0.8,0.8])#[left of the axes, bottom, width and height], the percentage of the canvas that you want to take\r\n",
    "#You can change these values to see how the frame will change. \r\n",
    "\r\n",
    "axes.plot(x,y)\r\n",
    "axes.set_xlabel(\"x label\")\r\n",
    "axes.set_ylabel(\"y label\")\r\n",
    "axes.set_title(\"title\")\r\n"
   ],
   "outputs": [],
   "metadata": {}
  },
  {
   "cell_type": "markdown",
   "source": [
    "### Multiple plots"
   ],
   "metadata": {}
  },
  {
   "cell_type": "code",
   "execution_count": null,
   "source": [
    "\"\"\"\r\n",
    "Let's now create two plots, one inside of the other!\r\n",
    "\r\n",
    "\"\"\"\r\n",
    "\r\n",
    "fig = plt.figure()\r\n",
    "axes1 = fig.add_axes([0.1,0.1,0.8,0.8])#you add a set of axes and you pass this list that goes from top to bottom\r\n",
    "axes2 = fig.add_axes([0.2,0.5,0.4,0.3])#now add the limits for the second smaller plot\r\n",
    "\r\n",
    "axes1.plot(x,y) #call axes1 to plot the first plot\r\n",
    "axes1.set_title(\"larger_plot\") #set_title for the big plot \r\n",
    "\r\n",
    "axes2.plot(y,x)#and axes2 for the second plot!\r\n",
    "axes2.set_title(\"smaller_plot\")#set_title for the small plot "
   ],
   "outputs": [],
   "metadata": {}
  },
  {
   "cell_type": "code",
   "execution_count": null,
   "source": [
    " #Let's create more data points\r\n",
    " t = np.arange(0,5,0.1)\r\n",
    " y1 = np.sin(2*np.pi*t)\r\n",
    " y2 = np.sin(2*np.pi*t)"
   ],
   "outputs": [],
   "metadata": {}
  },
  {
   "cell_type": "code",
   "execution_count": null,
   "source": [
    "\"\"\"\r\n",
    "Let's now make two subplots one next to other!\r\n",
    "Instead of plt.figure you can call plt.subplots and specify how many rows and columns you want.\r\n",
    "if nrows=1, ncols=2 it will create 1 row with 2 plots/ if nrows=2, ncols=3 it will create 2 rows with 3 plots each.\r\n",
    "\r\n",
    "Note!\r\n",
    "\r\n",
    "The axes attribute is just a list of the matplotlib axes. So you can actually iterate through and create  different plots!\r\n",
    "\"\"\"\r\n",
    "\r\n",
    "\r\n",
    "fig, axes = plt.subplots(nrows=1, ncols=2, figsize=(10,2))\r\n",
    "plt.tight_layout() #to fix the overlappings\r\n",
    "\r\n",
    "#for current_ax in axes:\r\n",
    "    #current_ax.plot(x,y)\r\n",
    "\r\n",
    "    \r\n",
    "axes[0].plot(t,y1,\"r\") #\"r\", change of color\r\n",
    "axes[0].set_title(\"1st plot\")\r\n",
    "axes[1].plot(t,y2)\r\n",
    "axes[1].set_title(\"2nd plot\")\r\n"
   ],
   "outputs": [],
   "metadata": {}
  },
  {
   "cell_type": "markdown",
   "source": [
    "### Save a figure"
   ],
   "metadata": {}
  },
  {
   "cell_type": "code",
   "execution_count": null,
   "source": [
    "#save a fig\r\n",
    "fig.savefig(\"my_filename.png\", dpi=200) #jpg,pdf or whatever you want"
   ],
   "outputs": [],
   "metadata": {}
  },
  {
   "cell_type": "markdown",
   "source": [
    "### legend"
   ],
   "metadata": {}
  },
  {
   "cell_type": "code",
   "execution_count": null,
   "source": [
    "\"\"\"\r\n",
    "Legends are another critical element for identifying plot elements. There are a couple\r\n",
    "of ways to add one. The easiest is to pass the label argument when adding each piece\r\n",
    "of the plot, for example: ax.plot(x,x**2, label=\"x squared\")\r\n",
    "\r\n",
    "\r\n",
    "Once you’ve done this, you can either call ax.legend() or plt.legend() to automatically\r\n",
    "create a legend\r\n",
    "\"\"\"\r\n",
    "\r\n",
    "fig = plt.figure()\r\n",
    "ax = fig.add_axes([0,0,1,1])\r\n",
    "ax.plot(x,x**2, label=\"x squared\") #specify labels for the legend\r\n",
    "ax.plot(x,x**3, label=\"x cubed\")\r\n",
    "\r\n",
    "ax.legend(loc=0)#to represnt the plots, loc=0 allows matplot to choose the best loc,  center, right\r\n",
    "#in order for this to work you need to specify in the ax.plot the labels as it is going to check if there is a label\r\n",
    "#ax.legend(loc=(0.1,0.1))"
   ],
   "outputs": [],
   "metadata": {}
  },
  {
   "cell_type": "markdown",
   "source": [
    "## Customize your plot\n"
   ],
   "metadata": {}
  },
  {
   "cell_type": "markdown",
   "source": [
    "### Remove borders"
   ],
   "metadata": {}
  },
  {
   "cell_type": "code",
   "execution_count": null,
   "source": [
    "\r\n",
    "fig = plt.figure()\r\n",
    "ax = fig.add_axes([0,0,1,1])\r\n",
    "ax.plot(x,y)\r\n",
    "\r\n",
    "#removing top and right borders\r\n",
    "ax.spines['top'].set_visible(False)\r\n",
    "ax.spines['right'].set_visible(False)"
   ],
   "outputs": [],
   "metadata": {}
  },
  {
   "cell_type": "markdown",
   "source": [
    "### Add grid"
   ],
   "metadata": {}
  },
  {
   "cell_type": "code",
   "execution_count": null,
   "source": [
    "\r\n",
    "fig = plt.figure()\r\n",
    "ax = fig.add_axes([0,0,1,1])\r\n",
    "ax.plot(x,y)\r\n",
    "  \r\n",
    "#adds major gridlines\r\n",
    "ax.grid(color='grey', linestyle='-', linewidth=0.25, alpha=0.5)"
   ],
   "outputs": [],
   "metadata": {}
  },
  {
   "cell_type": "code",
   "execution_count": null,
   "source": [
    "#Same example with subplots. \r\n",
    "#In the first one I added grid and in the second I removed the box\r\n",
    "\r\n",
    "\r\n",
    "fig, axes = plt.subplots(nrows=1, ncols=2, figsize=(10,2))\r\n",
    "plt.tight_layout() \r\n",
    "\r\n",
    "\r\n",
    "axes[0].plot(t,y1,\"b\") \r\n",
    "axes[0].set_title(\"1st plot\")\r\n",
    "axes[0].grid(color='grey', linestyle='-', linewidth=0.25, alpha=0.5)#grid\r\n",
    "\r\n",
    "axes[1].plot(t,y2)\r\n",
    "axes[1].set_title(\"2nd plot\")\r\n",
    "axes[1].spines['top'].set_visible(False)#remove all borders\r\n",
    "axes[1].spines['bottom'].set_visible(False)\r\n",
    "axes[1].spines['right'].set_visible(False)\r\n",
    "axes[1].spines['left'].set_visible(False)\r\n"
   ],
   "outputs": [],
   "metadata": {}
  },
  {
   "cell_type": "markdown",
   "source": [
    "### Markers and colors"
   ],
   "metadata": {}
  },
  {
   "cell_type": "code",
   "execution_count": null,
   "source": [
    "\"\"\"\r\n",
    "#linewidth or lw: thickness of the line, \r\n",
    "#alpha how transparent the line is, \r\n",
    "#linestyle or ls the linestyle, options: linestyles = ['-', '--', '-.', ':']\r\n",
    "#markers where the points are in the plot, https://matplotlib.org/3.3.0/api/markers_api.html\r\n",
    "\"\"\"\r\n",
    "\r\n",
    "fig = plt.figure()\r\n",
    "ax = fig.add_axes([0,0,1,1])\r\n",
    "#ax.plot(x,y, color=\"#FF8C00\") #RGB HEX CODES YOU CAN GOOGLE THEM\r\n",
    "ax.plot(x,y, color=\"purple\", linewidth=3, alpha=0.5, linestyle=\":\", marker=\"o\", markersize=10, \r\n",
    "markerfacecolor=\"yellow\", markeredgewidth=2, markeredgecolor=\"green\") \r\n",
    "\r\n"
   ],
   "outputs": [],
   "metadata": {}
  },
  {
   "cell_type": "markdown",
   "source": [
    "### Axes range "
   ],
   "metadata": {}
  },
  {
   "cell_type": "code",
   "execution_count": null,
   "source": [
    "\"\"\"\r\n",
    "You can also change  the x-axis and y-axis view limits by calling set_xlim and set_ylim respectively\r\n",
    "\"\"\"\r\n",
    "fig, axes = plt.subplots(1, 2, figsize=(12, 4))\r\n",
    "\r\n",
    "axes[0].plot(x, x**2, x, x**3)\r\n",
    "axes[0].set_title(\"default axes ranges\")\r\n",
    "axes[0].grid()\r\n",
    "\r\n",
    "axes[1].plot(x, x**2, x, x**3)\r\n",
    "axes[1].set_ylim([0, 80])\r\n",
    "axes[1].set_xlim([2, 5])\r\n",
    "axes[1].set_title(\"custom axes range\");"
   ],
   "outputs": [],
   "metadata": {}
  },
  {
   "cell_type": "code",
   "execution_count": null,
   "source": [
    "## More examples\r\n",
    "fig, ax = plt.subplots(figsize=(12,6))\r\n",
    "\r\n",
    "ax.plot(x, x+1, color=\"red\", linewidth=0.25)\r\n",
    "ax.plot(x, x+2, color=\"red\", linewidth=0.50)\r\n",
    "ax.plot(x, x+3, color=\"red\", linewidth=1.00)\r\n",
    "ax.plot(x, x+4, color=\"red\", linewidth=2.00)\r\n",
    "\r\n",
    "# possible linestype options ‘-‘, ‘–’, ‘-.’, ‘:’, ‘steps’\r\n",
    "ax.plot(x, x+5, color=\"green\", lw=3, linestyle='-')\r\n",
    "ax.plot(x, x+6, color=\"green\", lw=3, ls='-.')\r\n",
    "ax.plot(x, x+7, color=\"green\", lw=3, ls=':')\r\n",
    "\r\n",
    "# custom dash\r\n",
    "line, = ax.plot(x, x+8, color=\"black\", lw=1.50)\r\n",
    "line.set_dashes([5, 10, 15, 10]) # format: line length, space length, ...\r\n",
    "\r\n",
    "# possible marker symbols: marker = '+', 'o', '*', 's', ',', '.', '1', '2', '3', '4', ...\r\n",
    "ax.plot(x, x+ 9, color=\"blue\", lw=3, ls='-', marker='+')\r\n",
    "ax.plot(x, x+10, color=\"blue\", lw=3, ls='--', marker='o')\r\n",
    "ax.plot(x, x+11, color=\"blue\", lw=3, ls='-', marker='s')\r\n",
    "ax.plot(x, x+12, color=\"blue\", lw=3, ls='--', marker='1')\r\n",
    "\r\n",
    "# marker size and color\r\n",
    "ax.plot(x, x+13, color=\"purple\", lw=1, ls='-', marker='o', markersize=2)\r\n",
    "ax.plot(x, x+14, color=\"purple\", lw=1, ls='-', marker='o', markersize=4)\r\n",
    "ax.plot(x, x+15, color=\"purple\", lw=1, ls='-', marker='o', markersize=8, markerfacecolor=\"red\")\r\n",
    "ax.plot(x, x+16, color=\"purple\", lw=1, ls='-', marker='s', markersize=8, markerfacecolor=\"yellow\", markeredgewidth=3, markeredgecolor=\"green\");"
   ],
   "outputs": [],
   "metadata": {}
  },
  {
   "cell_type": "markdown",
   "source": [
    "## Other plots with matplotlib"
   ],
   "metadata": {}
  },
  {
   "cell_type": "code",
   "execution_count": null,
   "source": [
    "#Let's generate 100 random values \r\n",
    "pop = np.random.randint(0,100,100)"
   ],
   "outputs": [],
   "metadata": {}
  },
  {
   "cell_type": "markdown",
   "source": [
    "### Histogram"
   ],
   "metadata": {}
  },
  {
   "cell_type": "code",
   "execution_count": null,
   "source": [
    "plt.hist(pop)"
   ],
   "outputs": [],
   "metadata": {}
  },
  {
   "cell_type": "markdown",
   "source": [
    "### Barchart"
   ],
   "metadata": {}
  },
  {
   "cell_type": "code",
   "execution_count": null,
   "source": [
    "index = [0,1,2,3,4]\r\n",
    "values = [5,7,3,4,6]\r\n",
    "plt.bar(index,values)"
   ],
   "outputs": [],
   "metadata": {}
  },
  {
   "cell_type": "code",
   "execution_count": null,
   "source": [
    "### Barchart\r\n",
    "index = np.arange(5)\r\n",
    "values1 = [5,7,3,4,6]\r\n",
    "values2 = [6,6,4,5,7]\r\n",
    "values3 = [5,6,5,4,6]\r\n",
    "bw = 0.3 #the width of the bars, default is 0.8\r\n",
    "plt.axis([0,5,0,8])\r\n",
    "plt.title('A Multiseries Bar Chart',fontsize=20)\r\n",
    "plt.bar(index,values1,bw,color='b')\r\n",
    "plt.bar(index+bw,values2,bw,color='g')\r\n",
    "plt.bar(index+2*bw,values3,bw,color='r')\r\n",
    "plt.xticks(index+1.5*bw,['A','B','C','D','E'])"
   ],
   "outputs": [],
   "metadata": {}
  },
  {
   "cell_type": "markdown",
   "source": [
    "### Boxplot"
   ],
   "metadata": {}
  },
  {
   "cell_type": "code",
   "execution_count": null,
   "source": [
    "data = [np.random.normal(0, std, 100) for std in range(1, 4)]\r\n",
    "\r\n",
    "# rectangular box plot\r\n",
    "plt.boxplot(data,vert=True,patch_artist=True);   "
   ],
   "outputs": [],
   "metadata": {}
  },
  {
   "cell_type": "markdown",
   "source": [
    "## 2.  Pandas Built-in data visualization"
   ],
   "metadata": {}
  },
  {
   "cell_type": "markdown",
   "source": [
    "Easy to use interface, built on Matplotlib"
   ],
   "metadata": {}
  },
  {
   "cell_type": "code",
   "execution_count": null,
   "source": [
    "\"\"\"\r\n",
    "Let's first create a dataframe with categorical values\r\n",
    "\r\n",
    "Then we  can call the pandas plot with kind equals to bar to create a barplot. \r\n",
    "A bar plot shows comparisons among discrete categories.\r\n",
    "\r\n",
    "Here you can find all the different plots that you can create using the parameter kind = \"\"\r\n",
    "https://pandas.pydata.org/pandas-docs/version/0.23.4/generated/pandas.DataFrame.plot.html\r\n",
    "\r\n",
    "\"\"\"\r\n",
    "\r\n",
    "import pandas as pd \r\n",
    "data = {'series1':[1,3,4,3,5],'series2':[2,4,5,2,4],'series3':[3,2,3,1,3]}\r\n",
    "df = pd.DataFrame(data)\r\n",
    "\r\n",
    "\r\n",
    "df.plot(kind='bar')"
   ],
   "outputs": [],
   "metadata": {}
  },
  {
   "cell_type": "code",
   "execution_count": null,
   "source": [
    "##or a different way to visualize them is to put one on top of the other by calling stacked equals to True\r\n",
    "df.plot.bar(stacked=True)"
   ],
   "outputs": [],
   "metadata": {}
  },
  {
   "cell_type": "code",
   "execution_count": null,
   "source": [
    "#create a df with random numbers with random categories, floats and time_stamps\r\n",
    "import datetime\r\n",
    "df = pd.DataFrame({'A' : ['spam', 'eggs', 'spam', 'eggs'] * 250,\r\n",
    "                   'B' : ['alpha', 'beta', 'gamma', 'delta'] * 250,\r\n",
    "                   'C' : [np.random.choice(pd.date_range(datetime.datetime(2020,1,1),datetime.datetime(2020,6,3))) for i in range(1000)],\r\n",
    "                   'D' : np.random.randn(1000),\r\n",
    "                   'E' : np.random.randn(1000),\r\n",
    "                   'F' : np.random.randn(1000),\r\n",
    "                   'G' : np.random.random_integers(0,4,1000)})\r\n",
    "df2 = pd.DataFrame(np.random.randint(0,100,size=(10, 4)), columns=list('ABCD'))\r\n"
   ],
   "outputs": [],
   "metadata": {}
  },
  {
   "cell_type": "code",
   "execution_count": null,
   "source": [
    "\"\"\"\r\n",
    "Let's now draw a histgram for the column D!\r\n",
    "#A histogram is a representation of the distribution of data. This function groups the values of all given Series in the DataFrame into bins and draws all bins in one matplotlib.axes.Axes. This is useful when the DataFrame’s Series are in a similar scale.\r\n",
    "You can also specify the number of bins that you want using bins = ...\r\n",
    "\r\n",
    "\"\"\"\r\n",
    "\r\n",
    "\r\n",
    "plt.style.use('ggplot') #the \"ggplot\" style, adjusts the style to emulate ggplot (a popular plotting package for R).\r\n",
    "df[\"D\"].hist(bins=40)"
   ],
   "outputs": [],
   "metadata": {}
  },
  {
   "cell_type": "code",
   "execution_count": null,
   "source": [
    "df2.plot.bar()\r\n",
    "df2.plot.bar(stacked=True)"
   ],
   "outputs": [],
   "metadata": {}
  },
  {
   "cell_type": "code",
   "execution_count": null,
   "source": [
    "\"\"\"\r\n",
    "x: The column name or column position to be used as horizontal coordinates for each point.\r\n",
    "y: The column name or column position to be used as vertical coordinates for each point.\r\n",
    "s: The size of each point.\r\n",
    "cmap: colormap, choosing colormaps: https://matplotlib.org/3.2.1/tutorials/colors/colormaps.html\r\n",
    "\"\"\"\r\n",
    "\r\n",
    "df.plot.scatter(x='D',y='E', s=[14], cmap='coolwarm')\r\n"
   ],
   "outputs": [],
   "metadata": {}
  },
  {
   "cell_type": "code",
   "execution_count": null,
   "source": [
    "\"\"\"\r\n",
    "Only for the numerical attributes!\r\n",
    "\r\n",
    "\"\"\"\r\n",
    "\r\n",
    "df2.plot.box()"
   ],
   "outputs": [],
   "metadata": {}
  },
  {
   "cell_type": "markdown",
   "source": [
    "## Kernel Density Estimation\n",
    "\n",
    "Intuitively, one can also think of a histogram as a stack of blocks, one block per point. By stacking the blocks in the appropriate grid space, we recover the histogram. But what if, instead of stacking the blocks on a regular grid, we center each block on the point it represents, and sum the total height at each location? This idea leads to the lower-left visualization. It is perhaps not as clean as a histogram, but the fact that the data drive the block locations mean that it is a much better representation of the underlying data.\n",
    "\n",
    "This visualization is an example of a kernel density estimation, in this case with a top-hat kernel (i.e. a square block at each point).\n",
    "\n",
    "https://scikit-learn.org/stable/modules/density.html"
   ],
   "metadata": {}
  },
  {
   "cell_type": "code",
   "execution_count": null,
   "source": [
    "df2.plot.kde()"
   ],
   "outputs": [],
   "metadata": {}
  },
  {
   "cell_type": "markdown",
   "source": [
    "## 3. Seaborn"
   ],
   "metadata": {}
  },
  {
   "cell_type": "code",
   "execution_count": null,
   "source": [
    "\"\"\"\r\n",
    "Seaborn is a Python data visualization library based on matplotlib. It provides a high-level interface for drawing attractive and informative statistical graphics. \r\n",
    "\r\n",
    "Download seaborn: pip install seaborn\r\n",
    "\r\n",
    "See here an example gallery of seaborn plots: https://seaborn.pydata.org/examples/index.html\r\n",
    "\r\n",
    "\r\n",
    "A pairplot plots pairwise relationships in a dataset.\r\n",
    "\r\n",
    "\r\n",
    "data: Tidy (long-form) dataframe where each column is a variable and each row is an observation.\r\n",
    "\r\n",
    "hue: Variable in data to map plot aspects to different colors.\r\n",
    "\r\n",
    "\"\"\"\r\n",
    "\r\n",
    "\r\n",
    "import seaborn as sns\r\n",
    "sns.set(style=\"ticks\")\r\n",
    "\r\n",
    "#df = sns.load_dataset(\"iris\")\r\n",
    "sns.pairplot(data = df, hue=\"B\")"
   ],
   "outputs": [],
   "metadata": {}
  },
  {
   "cell_type": "markdown",
   "source": [
    "# End of notebook for plotting"
   ],
   "metadata": {}
  },
  {
   "cell_type": "code",
   "execution_count": null,
   "source": [],
   "outputs": [],
   "metadata": {}
  }
 ],
 "metadata": {
  "language_info": {
   "codemirror_mode": {
    "name": "ipython",
    "version": 3
   },
   "file_extension": ".py",
   "mimetype": "text/x-python",
   "name": "python",
   "nbconvert_exporter": "python",
   "pygments_lexer": "ipython3",
   "version": "3.7.4"
  },
  "orig_nbformat": 2,
  "kernelspec": {
   "name": "python3",
   "display_name": "Python 3.7.4 64-bit"
  },
  "interpreter": {
   "hash": "4a3821e50dfd29f54393a38062d93a54d0c9d954cd67861638d013f261604981"
  }
 },
 "nbformat": 4,
 "nbformat_minor": 2
}