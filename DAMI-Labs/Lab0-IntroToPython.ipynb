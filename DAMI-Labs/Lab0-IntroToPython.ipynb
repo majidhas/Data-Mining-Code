{
 "cells": [
  {
   "cell_type": "markdown",
   "source": [
    "# Lab 0: Introduction to Python\n",
    "\n",
    "In the first videos, we explained:\n",
    "- Main files that are included with a traditional Python installation\n",
    "- How to access the Python interpreter from the console\n",
    "- How to call functions, create variables and use python console as a calculator.\n",
    "\n",
    "Then, we explained we ran the Python interpreter from a `py` script to:\n",
    "- Create organized *Header Blocks*.\n",
    "- Conditionals\n",
    "- Explore main Data Structures\n",
    "- Loops\n",
    "- Functions\n",
    "- Import Python packages with PIP\n",
    "\n",
    "See the file in `dami_dsv/introduction/intro.py` to see a summary of the codes."
   ],
   "metadata": {}
  },
  {
   "cell_type": "markdown",
   "source": [
    "## Jupyter Notebooks\n",
    "\n",
    "In this section, we continue explaining conditionals, loops and functions using Jupyter notebooks.\n",
    "\n",
    "- IPython is a kernel behind Jupyter notebooks that makes working interactively convenient and efficient.\n",
    "- It is the way to go when is about Scientific Computing and Data Mining\n",
    "- Allows to combine codes with text through `MarkDown` language and $\\LaTeX$\n",
    "\n",
    "For example, some repositories with Jupyter notebooks are:\n",
    "\n",
    "- https://github.com/jupyter/jupyter/wiki/A-gallery-of-interesting-Jupyter-Notebooks\n",
    "- https://nbviewer.jupyter.org/\n",
    "\n"
   ],
   "metadata": {}
  },
  {
   "cell_type": "markdown",
   "source": [
    "# Activity: Design of Custom Modules from Jupyter\n",
    "\n",
    "All the `grading` from the homeworks will require the student to **design their own functions and place them in specific files**. As a practice, we will explain here how to create a function to calculate the mean in a multidimensional `numpy` array. This function is already incorporated in the numpy package, but we will use it as a simple example to learn how to design functions from a Jupyter notebook, and then place them in external modules.\n",
    "\n",
    "The lab comprises these steps:\n",
    "- Construction of 2D arrays in `numpy`\n",
    "- Create a function to calculate the `mean` of the array per axis\n",
    "- Test the function in Jupyter notebook\n",
    "- Copy the function to an external module\n",
    "- Execute the function from the external module"
   ],
   "metadata": {}
  },
  {
   "cell_type": "code",
   "execution_count": null,
   "source": [
    "import numpy as np\r\n",
    "\r\n",
    "# Import custom package for the course\r\n",
    "import dami_dsv.introduction.my_functions"
   ],
   "outputs": [],
   "metadata": {}
  },
  {
   "cell_type": "markdown",
   "source": [
    "## Create 2D array\n",
    "\n",
    "Create a 2D numpy array with size `(10,5)`. The numbers to fill in the array are created pseudo-randomly."
   ],
   "metadata": {}
  },
  {
   "cell_type": "code",
   "execution_count": null,
   "source": [
    "# Guarantees that the pseudo-random process is always going to show the same results. \r\n",
    "# Provides repeatability of experiments\r\n",
    "np.random.seed(12345)"
   ],
   "outputs": [],
   "metadata": {}
  },
  {
   "cell_type": "code",
   "execution_count": null,
   "source": [
    "array_in_2D = np.random.randint(0, 100, size=(10,5))\r\n",
    "array_in_2D"
   ],
   "outputs": [],
   "metadata": {}
  },
  {
   "cell_type": "code",
   "execution_count": null,
   "source": [
    "# Example of how to access a specific value\r\n",
    "# Access to the list in the index 2 (i.e. [91,80,73,11,77]), and then the element in the index 3. (i.e. 11)\r\n",
    "array_in_2D[2,3] "
   ],
   "outputs": [],
   "metadata": {}
  },
  {
   "cell_type": "code",
   "execution_count": null,
   "source": [
    "array_in_2D.shape # Method to extract the size of the numpy array"
   ],
   "outputs": [],
   "metadata": {}
  },
  {
   "cell_type": "code",
   "execution_count": null,
   "source": [
    "array_in_2D.max() # Function to calculate the maximum in the array"
   ],
   "outputs": [],
   "metadata": {}
  },
  {
   "cell_type": "code",
   "execution_count": null,
   "source": [
    "array_in_2D.mean() # Calculate the mean over all the elements"
   ],
   "outputs": [],
   "metadata": {}
  },
  {
   "cell_type": "markdown",
   "source": [
    "## Create a function to calculate the `mean` of the array per axis\n",
    "\n",
    "The function needs to have a parameter `axis` which can take either None, 0 or 1. If None, it averages over all elements. If 0, it averages vertically downwards across rows (in our example, result is an array of length 5). If 1, it averages horizontally across columns (in our example, result is an array of length 10).\n",
    "\n",
    "**NOTE: The concept of `axis` in numpy arrays is one of the most important concepts for data analysis, but at the same time one of the hardest to comprehend. Please refer to the [official explanation](https://docs.scipy.org/doc/numpy-1.10.0/glossary.html) to familiarize yourself with this parameter.** "
   ],
   "metadata": {}
  },
  {
   "cell_type": "code",
   "execution_count": null,
   "source": [
    "def calculate_mean_2D_array(input_array, axis=None):\r\n",
    "    \"\"\"\r\n",
    "    This function uses numpy methods to calculate the \r\n",
    "    mean of a 2D numpy array according to the specified axis.\r\n",
    "\r\n",
    "    Input:\r\n",
    "        input_array: 2D numpy array\r\n",
    "        axis: Defines how to perform the calculation of the mean\r\n",
    "            axis=None (default) - Average all the values in the array\r\n",
    "            axis=0 - running vertically downwards across rows\r\n",
    "            axis=1 - running horizontally across columns\r\n",
    "    Output:\r\n",
    "        A single value (if axis=None) or an array containing\r\n",
    "        the mean of the elements along the specified axis\r\n",
    "    \"\"\"\r\n",
    "\r\n",
    "    # Local Variables\r\n",
    "    result = None   # This variable will contain the final result\r\n",
    "\r\n",
    "    # Help variables for the function\r\n",
    "    nrows, ncols = input_array.shape # Extracts the size of the array\r\n",
    "    N = nrows * ncols\r\n",
    "\r\n",
    "    # Average over all the elements\r\n",
    "    if axis == None:\r\n",
    "        # Help variable to store cumulative sum\r\n",
    "        cumsum = 0\r\n",
    "        # Access each row from the array\r\n",
    "        for i in range(nrows):\r\n",
    "            # Access each value from the row\r\n",
    "            for j in range(ncols):\r\n",
    "                # Add to the cumulative sum\r\n",
    "                cumsum += input_array[i,j]\r\n",
    "        # Calculate total average\r\n",
    "        result = cumsum / N\r\n",
    "\r\n",
    "    # Average vertically downwards across rows\r\n",
    "    elif axis == 0:\r\n",
    "        # The result is a list, in which we will append respective values \r\n",
    "        result = []\r\n",
    "        # Access each row from the array\r\n",
    "        for j in range(ncols):\r\n",
    "            # Sum ALL the elements from the column\r\n",
    "            #   and divide by number of elements\r\n",
    "            average = input_array[:,j].sum() / nrows\r\n",
    "            # Append the value to the result\r\n",
    "            result.append(average)\r\n",
    "        # Convert from list to numpy array\r\n",
    "        result = np.array(result)\r\n",
    "\r\n",
    "    # Average horizontally across columns\r\n",
    "    elif axis == 1:\r\n",
    "        # The result is a list, in which we will append respective values \r\n",
    "        result = []\r\n",
    "        # Access each row from the array\r\n",
    "        for i in range(nrows):\r\n",
    "            # Sum ALL the elements from the row\r\n",
    "            #   and divide by number of elements\r\n",
    "            average = input_array[i,:].sum() / ncols\r\n",
    "            # Append the value to the result\r\n",
    "            result.append(average)\r\n",
    "        # Convert from list to numpy array\r\n",
    "        result = np.array(result) # Convert from list to numpy array\r\n",
    "    \r\n",
    "    # Return the variable to the object that called this function\r\n",
    "    return result"
   ],
   "outputs": [],
   "metadata": {}
  },
  {
   "cell_type": "markdown",
   "source": [
    "## Test the function from the Jupyter notebook"
   ],
   "metadata": {}
  },
  {
   "cell_type": "code",
   "execution_count": null,
   "source": [
    "# Result custom function with no specific axis\r\n",
    "calculate_mean_2D_array(array_in_2D)"
   ],
   "outputs": [],
   "metadata": {}
  },
  {
   "cell_type": "code",
   "execution_count": null,
   "source": [
    "calculate_mean_2D_array(array_in_2D, axis=0)"
   ],
   "outputs": [],
   "metadata": {}
  },
  {
   "cell_type": "code",
   "execution_count": null,
   "source": [
    "calculate_mean_2D_array(array_in_2D, axis=1)"
   ],
   "outputs": [],
   "metadata": {}
  },
  {
   "cell_type": "markdown",
   "source": [
    "### Compare the result with built-in function\n",
    "\n",
    "The function that we have created already exists in numpy (see [here](https://numpy.org/doc/stable/reference/generated/numpy.mean.html)).\n",
    "\n",
    "Then we can use the implemented function to validate our results, we just need to call the method `.mean()` and the parameter `axis`."
   ],
   "metadata": {}
  },
  {
   "cell_type": "code",
   "execution_count": null,
   "source": [
    "# Result of mean among all elements\r\n",
    "array_in_2D.mean()"
   ],
   "outputs": [],
   "metadata": {}
  },
  {
   "cell_type": "code",
   "execution_count": null,
   "source": [
    "# Result of mean in axis 0 []\r\n",
    "array_in_2D.mean(axis=0)"
   ],
   "outputs": [],
   "metadata": {}
  },
  {
   "cell_type": "code",
   "execution_count": null,
   "source": [
    "# Result of mean in axis 1\r\n",
    "array_in_2D.mean(axis=1)"
   ],
   "outputs": [],
   "metadata": {}
  },
  {
   "cell_type": "markdown",
   "source": [
    "As we can see, the results from our custom function `calculate_mean(input_array, axis=0)` returns the same values than the built-in function `array_in_2D.mean(axis=0)`."
   ],
   "metadata": {}
  },
  {
   "cell_type": "markdown",
   "source": [
    "## Copy the function to an external module\n",
    "\n",
    "Now, we copy the function that was created before to an external module in the folder `dami_dsv/introduction/my_functions.py`. This enhances readability of the main code."
   ],
   "metadata": {}
  },
  {
   "cell_type": "markdown",
   "source": [
    "## Execute the function from the external module\n",
    "\n",
    "To work with the function is important to import the correct file. In this case, we need to import the external module using `import dami_dsv.introduction.my_functions`\n",
    "\n",
    "This allows us to access the function `calculate_mean_2D_array()`, not from the current notebook but from the file `my_functions.py`"
   ],
   "metadata": {}
  },
  {
   "cell_type": "code",
   "execution_count": null,
   "source": [
    "dami_dsv.introduction.my_functions.calculate_mean_2D_array(array_in_2D)"
   ],
   "outputs": [],
   "metadata": {}
  },
  {
   "cell_type": "code",
   "execution_count": null,
   "source": [
    "dami_dsv.introduction.my_functions.calculate_mean_2D_array(array_in_2D, axis=0)"
   ],
   "outputs": [],
   "metadata": {}
  },
  {
   "cell_type": "code",
   "execution_count": null,
   "source": [
    "dami_dsv.introduction.my_functions.calculate_mean_2D_array(array_in_2D, axis=1)"
   ],
   "outputs": [],
   "metadata": {}
  },
  {
   "cell_type": "markdown",
   "source": [
    "# Final Remarks:\r\n",
    "- If you call `calculate_mean_2D_array()`, the function that was created in the cell `[8]` will be executed, which was created directly from the Jupyter notebook.\r\n",
    "- If you call `dami_dsv.introduction.my_functions.calculate_mean_2D_array()`, the function that will be executed is stored in the external module. Keep this in mind because **MOST OF THE HOMEWORKS WILL ASK TO MOVE YOUR FUNCTIONS TO A SEPARATE FILE TO FACILITATE THE GRADING.**"
   ],
   "metadata": {}
  },
  {
   "cell_type": "markdown",
   "source": [
    "## `NOTE:` Remember to **Restart the Kernel** from time to time to guarantee that the notebook works properly when you press **Run All**"
   ],
   "metadata": {}
  },
  {
   "cell_type": "markdown",
   "source": [
    "# End of Lab 0"
   ],
   "metadata": {}
  }
 ],
 "metadata": {
  "kernelspec": {
   "name": "python3",
   "display_name": "Python 3.7.6 64-bit"
  },
  "language_info": {
   "codemirror_mode": {
    "name": "ipython",
    "version": 3
   },
   "file_extension": ".py",
   "mimetype": "text/x-python",
   "name": "python",
   "nbconvert_exporter": "python",
   "pygments_lexer": "ipython3",
   "version": "3.7.6"
  },
  "interpreter": {
   "hash": "0600588c3b5f4418cbe7b5ebc6825b479f3bc010269d8b60d75058cdd010adfe"
  }
 },
 "nbformat": 4,
 "nbformat_minor": 4
}